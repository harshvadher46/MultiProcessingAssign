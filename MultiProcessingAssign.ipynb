{
 "cells": [
  {
   "cell_type": "code",
   "execution_count": 1,
   "id": "86db74ca-4b46-4961-bb04-1aa55822aad2",
   "metadata": {},
   "outputs": [
    {
     "data": {
      "text/plain": [
       "'Here are some reasons why multiprocessing is useful in Python:\\n    Parallelism\\n    Concurrency\\n    Isolation\\n    Fault Tolerance\\n    Scalability '"
      ]
     },
     "execution_count": 1,
     "metadata": {},
     "output_type": "execute_result"
    }
   ],
   "source": [
    "#Q-1-ANS\n",
    "''' Multiprocessing in Python is a programming technique and a module in the Python standard library that allows you to \n",
    "create and manage multiple processes in a Python program. Each process is an independent execution unit with its own memory space,\n",
    "which can run concurrently alongside other processes. Multiprocessing is particularly useful for tasks that can be parallelized, \n",
    "where you can divide a problem into smaller sub-tasks and process them simultaneously, \n",
    "taking advantage of multi-core processors to improve performance '''\n",
    "\n",
    "'''Here are some reasons why multiprocessing is useful in Python:\n",
    "    Parallelism\n",
    "    Concurrency\n",
    "    Isolation\n",
    "    Fault Tolerance\n",
    "    Scalability '''\n"
   ]
  },
  {
   "cell_type": "code",
   "execution_count": 2,
   "id": "cb1df30c-72e0-4bea-849a-b6320bfccf6c",
   "metadata": {},
   "outputs": [
    {
     "data": {
      "text/plain": [
       "' 4.Parallelism :\\nMultiprocessing: Provides true parallelism by running multiple processes in parallel, suitable for CPU-bound tasks that can be parallelized.\\nMultithreading: Provides concurrent execution but not true parallelism due to the GIL in CPython. It is better for I/O-bound tasks or tasks that involve waiting for external resources.\\n\\n   5.Complexity :\\n   \\nMultiprocessing: Creating and managing processes can be more complex, as you need to deal with inter-process communication and synchronization.\\nMultithreading: Threads within a single process are typically easier to work with, but you must be cautious about thread safety to avoid issues like race conditions.\\n\\n  6.Compatibility:\\n\\nMultiprocessing: More compatible with all Python implementations as it doesnt rely on the GIL. It works well on multi-core systems.\\nMultithreading: The GIL in CPython limits the effectiveness of multithreading for CPU-bound tasks in CPython, but it may perform better in other Python implementations (e.g., Jython, IronPython) or in C-extensions.'"
      ]
     },
     "execution_count": 2,
     "metadata": {},
     "output_type": "execute_result"
    }
   ],
   "source": [
    "#Q-3-ANS\n",
    "'''\n",
    "1.Processes vs. Threads:\n",
    "Multiprocessing: It involves running multiple independent processes, where each process has its own memory space and runs in a separate address space. Processes are heavyweight compared to threads.\n",
    "Multithreading: It involves running multiple threads within a single process, and they share the same memory space. Threads are lightweight compared to processes.'''\n",
    "\n",
    "''' 2.Isolation:\n",
    "Multiprocessing: Processes are isolated from each other, meaning that they don't share memory. This isolation provides robustness but requires inter-process communication (IPC) mechanisms for data sharing.\n",
    "Multithreading: Threads within a process share memory space, which can lead to potential issues like race conditions and data corruption if not managed properly. However, it can be more efficient for data sharing within a single application '''\n",
    "\n",
    "''' 3.CPU Utilization :\n",
    "Multiprocessing: It efficiently utilizes multiple CPU cores, as each process can run on a different core. This is well-suited for CPU-bound tasks.\n",
    "Multithreading: Due to the Global Interpreter Lock (GIL) in CPython (the default Python interpreter), multithreading is less efficient in utilizing multiple CPU cores for CPU-bound tasks. However, it can be suitable for I/O-bound tasks.'''\n",
    "\n",
    "''' 4.Parallelism :\n",
    "Multiprocessing: Provides true parallelism by running multiple processes in parallel, suitable for CPU-bound tasks that can be parallelized.\n",
    "Multithreading: Provides concurrent execution but not true parallelism due to the GIL in CPython. It is better for I/O-bound tasks or tasks that involve waiting for external resources.\n",
    "\n",
    "   5.Complexity :\n",
    "   \n",
    "Multiprocessing: Creating and managing processes can be more complex, as you need to deal with inter-process communication and synchronization.\n",
    "Multithreading: Threads within a single process are typically easier to work with, but you must be cautious about thread safety to avoid issues like race conditions.\n",
    "\n",
    "  6.Compatibility:\n",
    "\n",
    "Multiprocessing: More compatible with all Python implementations as it doesnt rely on the GIL. It works well on multi-core systems.\n",
    "Multithreading: The GIL in CPython limits the effectiveness of multithreading for CPU-bound tasks in CPython, but it may perform better in other Python implementations (e.g., Jython, IronPython) or in C-extensions.'''"
   ]
  },
  {
   "cell_type": "code",
   "execution_count": 3,
   "id": "3b4ef21a-b426-46ad-a48c-fa05ce43b0cc",
   "metadata": {},
   "outputs": [
    {
     "name": "stdout",
     "output_type": "stream",
     "text": [
      "This is running in a separate process.\n",
      "Main process continues running.\n",
      "This is running in a separate process.\n",
      "Main process continues running.\n"
     ]
    }
   ],
   "source": [
    "# Q-4-ANS\n",
    "''' To create a process using the multiprocessing module in Python, you typically define a function that represents the task \n",
    "you want to perform in the new process and then use the Process class to create and start the process'''\n",
    "\n",
    "import multiprocessing\n",
    "\n",
    "# Define a function that will run in the new process\n",
    "def my_function():\n",
    "    print(\"This is running in a separate process.\")\n",
    "\n",
    "if __name__ == \"__main__\":\n",
    "    # Create a new process\n",
    "    my_process = multiprocessing.Process(target=my_function)\n",
    "\n",
    "    # Start the process\n",
    "    my_process.start()\n",
    "\n",
    "    # Wait for the process to finish (optional)\n",
    "    my_process.join()\n",
    "\n",
    "    print(\"Main process continues running.\")\n",
    "import multiprocessing\n",
    "\n",
    "# Define a function that will run in the new process\n",
    "def my_function():\n",
    "    print(\"This is running in a separate process.\")\n",
    "\n",
    "if __name__ == \"__main__\":\n",
    "    # Create a new process\n",
    "    my_process = multiprocessing.Process(target=my_function)\n",
    "\n",
    "    # Start the process\n",
    "    my_process.start()\n",
    "\n",
    "    # Wait for the process to finish (optional)\n",
    "    my_process.join()\n",
    "\n",
    "    print(\"Main process continues running.\")\n",
    "    \n"
   ]
  },
  {
   "cell_type": "code",
   "execution_count": 4,
   "id": "4ef74a45-1c61-4c38-a1a1-2bf9c5a1108a",
   "metadata": {},
   "outputs": [
    {
     "name": "stdout",
     "output_type": "stream",
     "text": [
      "Results: [2, 4, 6, 8, 10]\n"
     ]
    }
   ],
   "source": [
    "#Q-5-ANS\n",
    "import multiprocessing\n",
    "\n",
    "# Define a function that represents the task you want to parallelize\n",
    "def worker_function(task):\n",
    "    result = task * 2  # For example, double the input task\n",
    "    return result\n",
    "\n",
    "if __name__ == \"__main__\":\n",
    "    # Create a pool of worker processes with a specified number of processes (e.g., 4)\n",
    "    num_processes = 4\n",
    "    with multiprocessing.Pool(processes=num_processes) as pool:\n",
    "        # Define a list of tasks to be processed\n",
    "        tasks = [1, 2, 3, 4, 5]\n",
    "\n",
    "        # Use the map function to distribute the tasks to the pool of processes\n",
    "        results = pool.map(worker_function, tasks)\n",
    "\n",
    "    # The pool of processes is automatically closed when exiting the 'with' block\n",
    "\n",
    "    print(\"Results:\", results)\n"
   ]
  },
  {
   "cell_type": "code",
   "execution_count": 7,
   "id": "a64ddafe-e603-4a02-88cd-e7162914fff4",
   "metadata": {},
   "outputs": [
    {
     "name": "stdout",
     "output_type": "stream",
     "text": [
      "Process 1: Printing 1\n",
      "Process 2: Printing 2\n",
      "Process 3: Printing 3\n",
      "Process 4: Printing 4\n",
      "All processes have finished.\n"
     ]
    }
   ],
   "source": [
    "#Q-6-ANS\n",
    "import multiprocessing\n",
    "\n",
    "# Function for each process to print a number\n",
    "def print_number(number):\n",
    "    print(f\"Process {number}: Printing {number}\")\n",
    "\n",
    "if __name__ == \"__main__\":\n",
    "    # Create a list of processes\n",
    "    processes = []\n",
    "\n",
    "    # Create and start four processes\n",
    "    for i in range(1, 5):\n",
    "        process = multiprocessing.Process(target=print_number, args=(i,))\n",
    "        processes.append(process)\n",
    "        process.start()\n",
    "\n",
    "    # Wait for all processes to finish\n",
    "    for process in processes:\n",
    "        process.join()\n",
    "\n",
    "    print(\"All processes have finished.\")\n"
   ]
  },
  {
   "cell_type": "code",
   "execution_count": null,
   "id": "90d5c9ec-44c0-4110-8107-053bb626df8f",
   "metadata": {},
   "outputs": [],
   "source": []
  }
 ],
 "metadata": {
  "kernelspec": {
   "display_name": "Python 3 (ipykernel)",
   "language": "python",
   "name": "python3"
  },
  "language_info": {
   "codemirror_mode": {
    "name": "ipython",
    "version": 3
   },
   "file_extension": ".py",
   "mimetype": "text/x-python",
   "name": "python",
   "nbconvert_exporter": "python",
   "pygments_lexer": "ipython3",
   "version": "3.10.8"
  }
 },
 "nbformat": 4,
 "nbformat_minor": 5
}
